{
 "cells": [
  {
   "cell_type": "code",
   "execution_count": 17,
   "id": "8f270b1f",
   "metadata": {},
   "outputs": [],
   "source": [
    "\n",
    "import requests;\n",
    "from selenium import webdriver;\n",
    "from selenium.webdriver.common.by import By;\n",
    "from selenium.webdriver.common.action_chains import ActionChains\n",
    "from time import sleep;\n",
    "from bs4 import BeautifulSoup;\n",
    "import os;\n",
    "import zipfile;"
   ]
  },
  {
   "cell_type": "code",
   "execution_count": 18,
   "id": "d43f920f",
   "metadata": {},
   "outputs": [],
   "source": [
    "# Initialize Chrome\n",
    "driver = webdriver.Chrome();"
   ]
  },
  {
   "cell_type": "code",
   "execution_count": 19,
   "id": "207fb030",
   "metadata": {},
   "outputs": [],
   "source": [
    "# Navigate to D1D system\n",
    "url = 'http://itpv2.transtron.fujitsu.com/';\n",
    "driver.get(url);\n",
    "sleep(1);"
   ]
  },
  {
   "cell_type": "code",
   "execution_count": 20,
   "id": "8bb3b852",
   "metadata": {},
   "outputs": [],
   "source": [
    "# Fill login information\n",
    "input_field = driver.find_element(By.ID, 'userid');\n",
    "input_field.send_keys('izmb-free');\n",
    "\n",
    "password_field = driver.find_element(By.ID, 'password');\n",
    "password_field.send_keys('izumi001');"
   ]
  },
  {
   "cell_type": "code",
   "execution_count": 21,
   "id": "b9eb4b25",
   "metadata": {},
   "outputs": [],
   "source": [
    "# Login\n",
    "btn_login = driver.find_element(By.ID, 'login');\n",
    "btn_login.click();\n",
    "sleep(1);"
   ]
  },
  {
   "cell_type": "code",
   "execution_count": 22,
   "id": "999cdd6f",
   "metadata": {},
   "outputs": [],
   "source": [
    "# Waiting the client loading\n",
    "sleep(20);"
   ]
  },
  {
   "cell_type": "code",
   "execution_count": 26,
   "id": "cb421582",
   "metadata": {},
   "outputs": [],
   "source": [
    "# Open Menu\n",
    "btn_menu = driver.find_element(By.CLASS_NAME, 'b_btn-menu');\n",
    "btn_menu.click();\n",
    "sleep(2);"
   ]
  },
  {
   "cell_type": "code",
   "execution_count": 27,
   "id": "a1362d82",
   "metadata": {},
   "outputs": [],
   "source": [
    "# Hover Function List\n",
    "function_list = driver.find_element(By.ID, 'F100');\n",
    "hover = ActionChains(driver).move_to_element(function_list);\n",
    "hover.perform();"
   ]
  },
  {
   "cell_type": "code",
   "execution_count": 28,
   "id": "189f39a2",
   "metadata": {},
   "outputs": [],
   "source": [
    "# Open Results\n",
    "results_menu = driver.find_element(By.ID, 'F40_dl');\n",
    "results_menu.click();\n",
    "sleep(2);"
   ]
  },
  {
   "cell_type": "code",
   "execution_count": 29,
   "id": "d1ea9bfa",
   "metadata": {},
   "outputs": [],
   "source": [
    "# Get Digital Tachograph Data\n",
    "digital_tachograph_data = driver.find_element(By.XPATH, '//*[@id=\"F40_ul\"]/li[7]');\n",
    "digital_tachograph_data.click();\n",
    "sleep(2);"
   ]
  },
  {
   "cell_type": "code",
   "execution_count": 30,
   "id": "20a70af2",
   "metadata": {},
   "outputs": [],
   "source": [
    "# Check all branch\n",
    "checkbox_select_all_branch = driver.find_element(By.XPATH, '//*[@id=\"F49_eigyousyoLevel_view\"]/li/div/span/div/div');\n",
    "checkbox_select_all_branch.click();\n",
    "sleep(2);"
   ]
  },
  {
   "cell_type": "code",
   "execution_count": 31,
   "id": "ed1f0d05",
   "metadata": {},
   "outputs": [],
   "source": [
    "# Adjust trip start date\n",
    "trip_start_day = driver.find_element(By.ID, 'F49_from');\n",
    "trip_start_day.click();\n",
    "\n",
    "calendar_field = driver.find_element(By.XPATH, '//*[@id=\"F49_calendar_start_2021_11\"]/tbody/tr[4]/td[3]');\n",
    "ActionChains(driver).move_to_element(calendar_field).click().perform();"
   ]
  },
  {
   "cell_type": "code",
   "execution_count": 32,
   "id": "ac539b26",
   "metadata": {},
   "outputs": [],
   "source": [
    "# Dowload\n",
    "btn_get_data = driver.find_element(By.ID, 'F49_get_button');\n",
    "btn_get_data.click();"
   ]
  }
 ],
 "metadata": {
  "kernelspec": {
   "display_name": "Python 3 (ipykernel)",
   "language": "python",
   "name": "python3"
  },
  "language_info": {
   "codemirror_mode": {
    "name": "ipython",
    "version": 3
   },
   "file_extension": ".py",
   "mimetype": "text/x-python",
   "name": "python",
   "nbconvert_exporter": "python",
   "pygments_lexer": "ipython3",
   "version": "3.10.0"
  }
 },
 "nbformat": 4,
 "nbformat_minor": 5
}
