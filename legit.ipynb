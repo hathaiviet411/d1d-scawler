{
 "cells": [
  {
   "cell_type": "code",
   "execution_count": 231,
   "metadata": {},
   "outputs": [],
   "source": [
    "from selenium import webdriver;\n",
    "from selenium.webdriver.common.by import By;\n",
    "from selenium.webdriver.common.keys import Keys;\n",
    "from selenium.webdriver.common.action_chains import ActionChains;\n",
    "from webdriver_manager.chrome import ChromeDriverManager;\n",
    "import datetime;\n",
    "from time import sleep;\n",
    "from selenium.webdriver.support.ui import Select\n",
    "import win32api;\n",
    "import sys;"
   ]
  },
  {
   "cell_type": "code",
   "execution_count": 60,
   "metadata": {},
   "outputs": [],
   "source": [
    "# Initialize Chrome\n",
    "driver = webdriver.Chrome();\n",
    "driver.maximize_window();"
   ]
  },
  {
   "cell_type": "code",
   "execution_count": 61,
   "metadata": {},
   "outputs": [],
   "source": [
    "# Navigate to D1D system\n",
    "sleep(1);\n",
    "url = 'http://itpv2.transtron.fujitsu.com/';\n",
    "driver.get(url);\n",
    "sleep(1);"
   ]
  },
  {
   "cell_type": "code",
   "execution_count": 62,
   "metadata": {},
   "outputs": [],
   "source": [
    "# Fill login information\n",
    "sleep(1);\n",
    "input_field = driver.find_element(By.ID, 'userid');\n",
    "input_field.send_keys('izmb-free');\n",
    "\n",
    "password_field = driver.find_element(By.ID, 'password');\n",
    "password_field.send_keys('izumi001');"
   ]
  },
  {
   "cell_type": "code",
   "execution_count": 63,
   "metadata": {},
   "outputs": [],
   "source": [
    "# Login\n",
    "sleep(1);\n",
    "btn_login = driver.find_element(By.ID, 'login');\n",
    "btn_login.click();\n",
    "sleep(1);"
   ]
  },
  {
   "cell_type": "code",
   "execution_count": 64,
   "metadata": {},
   "outputs": [],
   "source": [
    "# Waiting the client loading\n",
    "sleep(20);"
   ]
  },
  {
   "cell_type": "code",
   "execution_count": 65,
   "metadata": {},
   "outputs": [],
   "source": [
    "# Get current time.\n",
    "sleep(1);\n",
    "currentTime = datetime.date.today();\n",
    "currentDate = currentTime.day;\n",
    "currentMonth = currentTime.month;\n",
    "currentYear = currentTime.year;\n",
    "scrappDataDate = currentDate - 1;"
   ]
  },
  {
   "cell_type": "code",
   "execution_count": 66,
   "metadata": {},
   "outputs": [],
   "source": [
    "# Open Menu\n",
    "sleep(1);\n",
    "btn_menu = driver.find_element(By.CLASS_NAME, 'b_btn-menu');\n",
    "btn_menu.click();\n",
    "sleep(2);"
   ]
  },
  {
   "cell_type": "code",
   "execution_count": 67,
   "metadata": {},
   "outputs": [],
   "source": [
    "# Hover Function List\n",
    "sleep(1);\n",
    "function_list = driver.find_element(By.ID, 'F100');\n",
    "hover = ActionChains(driver).move_to_element(function_list);\n",
    "hover.perform();"
   ]
  },
  {
   "cell_type": "code",
   "execution_count": 68,
   "metadata": {},
   "outputs": [],
   "source": [
    "# Open Results\n",
    "sleep(1);\n",
    "results_menu = driver.find_element(By.ID, 'F40_dl');\n",
    "results_menu.click();\n",
    "sleep(2);"
   ]
  },
  {
   "cell_type": "code",
   "execution_count": 69,
   "metadata": {},
   "outputs": [],
   "source": [
    "sleep(1);\n",
    "vehicle_expense_report = driver.find_element(By.XPATH, '//*[@id=\"F45\"]');\n",
    "vehicle_expense_report.click();\n",
    "sleep(5);"
   ]
  },
  {
   "cell_type": "code",
   "execution_count": 70,
   "metadata": {},
   "outputs": [],
   "source": [
    "sleep(1);\n",
    "checkbox = driver.find_element(By.XPATH, '//*[@id=\"F45_eigyousyoLevel_view\"]/li/div/span/div/div');\n",
    "checkbox.click();\n",
    "sleep(2);"
   ]
  },
  {
   "cell_type": "code",
   "execution_count": 77,
   "metadata": {},
   "outputs": [],
   "source": [
    "def getCurrentCalendarXPATH(calendar_id, year, month):\n",
    "    return \"//table[@id='\" + calendar_id + \"_calendar_start_\" + year + '_' + month + \"']//a\";"
   ]
  },
  {
   "cell_type": "code",
   "execution_count": 73,
   "metadata": {},
   "outputs": [],
   "source": [
    "sleep(1);\n",
    "driver.find_element(By.ID, \"F45_StartDate\").click();\n",
    "\n",
    "webDriverCurrentMonth = int(driver.find_element(By.XPATH, '//*[@id=\"F45_calendar_start\"]/div/div').text.split(\"/\")[1]);\n",
    "\n",
    "btn_previous = driver.find_element(By.ID, 'prev');\n",
    "sleep(1);\n",
    "btn_next = driver.find_element(By.ID, 'next');\n",
    "sleep(1);\n",
    "\n",
    "balancer = 0;\n",
    "index = 0;\n",
    "\n",
    "currentYearMonthCalendar = getCurrentCalendarXPATH('F45', str(currentYear), str(currentMonth));\n",
    "\n",
    "if webDriverCurrentMonth < currentMonth:\n",
    "    balancer = currentMonth - webDriverCurrentMonth;\n",
    "    \n",
    "    while index < balancer:\n",
    "        btn_next.click();\n",
    "        index += 1;\n",
    "else:\n",
    "    balancer = webDriverCurrentMonth - currentMonth;\n",
    "    while index < balancer:\n",
    "        btn_previous.click();\n",
    "        index += 1;\n",
    "        \n",
    "listDatesStart = driver.find_elements(By.XPATH, currentYearMonthCalendar);\n",
    "\n",
    "for date in listDatesStart:\n",
    "    dateName = date.text;\n",
    "    if dateName == str(scrappDataDate):\n",
    "        date.click();\n",
    "        break;"
   ]
  },
  {
   "cell_type": "code",
   "execution_count": 74,
   "metadata": {},
   "outputs": [],
   "source": [
    "sleep(1);\n",
    "btn_dowload = driver.find_element(By.ID, 'F45_CSV_button');\n",
    "btn_dowload.click();\n",
    "sleep(2);"
   ]
  },
  {
   "cell_type": "code",
   "execution_count": 75,
   "metadata": {},
   "outputs": [],
   "source": [
    "sleep(20);"
   ]
  },
  {
   "cell_type": "code",
   "execution_count": 76,
   "metadata": {},
   "outputs": [],
   "source": [
    "# Open Menu\n",
    "sleep(1);\n",
    "btn_menu = driver.find_element(By.CLASS_NAME, 'b_btn-menu');\n",
    "btn_menu.click();\n",
    "sleep(2);\n",
    "\n",
    "# Hover Function List\n",
    "sleep(1);\n",
    "function_list = driver.find_element(By.ID, 'F100');\n",
    "hover = ActionChains(driver).move_to_element(function_list);\n",
    "hover.perform();"
   ]
  },
  {
   "cell_type": "code",
   "execution_count": null,
   "metadata": {},
   "outputs": [],
   "source": [
    "sleep(1);\n",
    "driver_expense_report = driver.find_element(By.XPATH, '//*[@id=\"F46\"]');\n",
    "driver_expense_report.click();\n",
    "sleep(5);"
   ]
  },
  {
   "cell_type": "code",
   "execution_count": 78,
   "metadata": {},
   "outputs": [],
   "source": [
    "sleep(1);\n",
    "driver.find_element(By.XPATH, '//*[@id=\"F46_eigyousyoLevel_view\"]/li/div/span/div/div').click();\n",
    "sleep(2);"
   ]
  },
  {
   "cell_type": "code",
   "execution_count": 79,
   "metadata": {},
   "outputs": [],
   "source": [
    "sleep(1);\n",
    "driver.find_element(By.ID, \"F46_from\").click();\n",
    "\n",
    "webDriverCurrentMonth = int(driver.find_element(By.XPATH, '//*[@id=\"F46_calendar_start\"]/div/div').text.split(\"/\")[1]);\n",
    "\n",
    "btn_previous = driver.find_element(By.ID, 'prev');\n",
    "sleep(1);\n",
    "btn_next = driver.find_element(By.ID, 'next');\n",
    "sleep(1);\n",
    "\n",
    "balancer = 0;\n",
    "index = 0;\n",
    "\n",
    "currentYearMonthCalendar = getCurrentCalendarXPATH('F46', str(currentYear), str(currentMonth));\n",
    "\n",
    "if webDriverCurrentMonth < currentMonth:\n",
    "    balancer = currentMonth - webDriverCurrentMonth;\n",
    "    \n",
    "    while index < balancer:\n",
    "        btn_next.click();\n",
    "        index += 1;\n",
    "else:\n",
    "    balancer = webDriverCurrentMonth - currentMonth;\n",
    "    while index < balancer:\n",
    "        btn_previous.click();\n",
    "        index += 1;\n",
    "\n",
    "listDatesStart = driver.find_elements(By.XPATH, currentYearMonthCalendar);\n",
    "\n",
    "for date in listDatesStart:\n",
    "    dateName = date.text;\n",
    "    if dateName == str(scrappDataDate):\n",
    "        date.click();\n",
    "        break;"
   ]
  },
  {
   "cell_type": "code",
   "execution_count": 80,
   "metadata": {},
   "outputs": [],
   "source": [
    "sleep(1);\n",
    "driver.find_element(By.ID, 'F46_csvout_button').click();\n",
    "sleep(2);"
   ]
  },
  {
   "cell_type": "code",
   "execution_count": null,
   "metadata": {},
   "outputs": [],
   "source": [
    "sleep(20);"
   ]
  },
  {
   "cell_type": "code",
   "execution_count": 82,
   "metadata": {},
   "outputs": [],
   "source": [
    "# Open Menu\n",
    "sleep(1);\n",
    "btn_menu = driver.find_element(By.CLASS_NAME, 'b_btn-menu');\n",
    "btn_menu.click();\n",
    "sleep(2);\n",
    "\n",
    "# Hover Function List\n",
    "sleep(1);\n",
    "function_list = driver.find_element(By.ID, 'F100');\n",
    "hover = ActionChains(driver).move_to_element(function_list);\n",
    "hover.perform();"
   ]
  },
  {
   "cell_type": "code",
   "execution_count": null,
   "metadata": {},
   "outputs": [],
   "source": [
    "sleep(1);\n",
    "driving_report_by_driver = driver.find_element(By.XPATH, '//*[@id=\"F42\"]').click();\n",
    "sleep(5);"
   ]
  },
  {
   "cell_type": "code",
   "execution_count": 88,
   "metadata": {},
   "outputs": [],
   "source": [
    "sleep(1);\n",
    "driver.find_element(By.XPATH, '//*[@id=\"F42_eigyousyoLevel_view\"]/li/div/span/div/div').click();\n",
    "sleep(2);"
   ]
  },
  {
   "cell_type": "code",
   "execution_count": 89,
   "metadata": {},
   "outputs": [],
   "source": [
    "sleep(1);\n",
    "driver.find_element(By.ID, \"F42_from\").click();\n",
    "\n",
    "webDriverCurrentMonth = int(driver.find_element(By.XPATH, '//*[@id=\"F42_calendar_start\"]/div/div').text.split(\"/\")[1]);\n",
    "\n",
    "btn_previous = driver.find_element(By.ID, 'prev');\n",
    "sleep(1);\n",
    "btn_next = driver.find_element(By.ID, 'next');\n",
    "sleep(1);\n",
    "\n",
    "balancer = 0;\n",
    "index = 0;\n",
    "\n",
    "currentYearMonthCalendar = getCurrentCalendarXPATH('F42', str(currentYear), str(currentMonth));\n",
    "\n",
    "if webDriverCurrentMonth < currentMonth:\n",
    "    balancer = currentMonth - webDriverCurrentMonth;\n",
    "    \n",
    "    while index < balancer:\n",
    "        btn_next.click();\n",
    "        index += 1;\n",
    "else:\n",
    "    balancer = webDriverCurrentMonth - currentMonth;\n",
    "    while index < balancer:\n",
    "        btn_previous.click();\n",
    "        index += 1;\n",
    "        \n",
    "listDatesStart = driver.find_elements(By.XPATH, currentYearMonthCalendar);\n",
    "\n",
    "for date in listDatesStart:\n",
    "    dateName = date.text;\n",
    "    if dateName == str(scrappDataDate):\n",
    "        date.click();\n",
    "        break;"
   ]
  },
  {
   "cell_type": "code",
   "execution_count": 90,
   "metadata": {},
   "outputs": [],
   "source": [
    "sleep(1);\n",
    "driver.find_element(By.ID, 'F42_csvout_button').click();\n",
    "sleep(2);"
   ]
  },
  {
   "cell_type": "code",
   "execution_count": null,
   "metadata": {},
   "outputs": [],
   "source": [
    "sleep(20);"
   ]
  },
  {
   "cell_type": "code",
   "execution_count": 93,
   "metadata": {},
   "outputs": [],
   "source": [
    "# Open Menu\n",
    "sleep(1);\n",
    "btn_menu = driver.find_element(By.CLASS_NAME, 'b_btn-menu');\n",
    "btn_menu.click();\n",
    "sleep(2);\n",
    "\n",
    "# Hover Function List\n",
    "sleep(1);\n",
    "function_list = driver.find_element(By.ID, 'F100');\n",
    "hover = ActionChains(driver).move_to_element(function_list);\n",
    "hover.perform();"
   ]
  },
  {
   "cell_type": "code",
   "execution_count": 94,
   "metadata": {},
   "outputs": [],
   "source": [
    "sleep(1);\n",
    "driver_report_by_vehicle = driver.find_element(By.XPATH, '//*[@id=\"F43\"]').click();\n",
    "sleep(5);"
   ]
  },
  {
   "cell_type": "code",
   "execution_count": 98,
   "metadata": {},
   "outputs": [],
   "source": [
    "sleep(1);\n",
    "driver.find_element(By.XPATH, '//*[@id=\"F43_eigyousyoLevel_view\"]/li/div/span/div/div').click();\n",
    "sleep(2);"
   ]
  },
  {
   "cell_type": "code",
   "execution_count": 96,
   "metadata": {},
   "outputs": [],
   "source": [
    "sleep(1);\n",
    "driver.find_element(By.ID, \"F43_StartDate\").click();\n",
    "\n",
    "webDriverCurrentMonth = int(driver.find_element(By.XPATH, '//*[@id=\"F43_calendar_start\"]/div/div').text.split(\"/\")[1]);\n",
    "\n",
    "btn_previous = driver.find_element(By.ID, 'prev');\n",
    "sleep(1);\n",
    "btn_next = driver.find_element(By.ID, 'next');\n",
    "sleep(1);\n",
    "\n",
    "balancer = 0;\n",
    "index = 0;\n",
    "\n",
    "currentYearMonthCalendar = getCurrentCalendarXPATH('F43', str(currentYear), str(currentMonth));\n",
    "\n",
    "if webDriverCurrentMonth < currentMonth:\n",
    "    balancer = currentMonth - webDriverCurrentMonth;\n",
    "    \n",
    "    while index < balancer:\n",
    "        btn_next.click();\n",
    "        index += 1;\n",
    "else:\n",
    "    balancer = webDriverCurrentMonth - currentMonth;\n",
    "    while index < balancer:\n",
    "        btn_previous.click();\n",
    "        index += 1;\n",
    "        \n",
    "listDatesStart = driver.find_elements(By.XPATH, currentYearMonthCalendar);\n",
    "\n",
    "for date in listDatesStart:\n",
    "    dateName = date.text;\n",
    "    if dateName == str(scrappDataDate):\n",
    "        date.click();\n",
    "        break;"
   ]
  },
  {
   "cell_type": "code",
   "execution_count": 99,
   "metadata": {},
   "outputs": [],
   "source": [
    "sleep(1);\n",
    "driver.find_element(By.ID, 'F43_CSV_button').click();\n",
    "sleep(2);"
   ]
  },
  {
   "cell_type": "code",
   "execution_count": null,
   "metadata": {},
   "outputs": [],
   "source": [
    "sleep(20);"
   ]
  },
  {
   "cell_type": "code",
   "execution_count": 120,
   "metadata": {},
   "outputs": [],
   "source": [
    "# Open Menu\n",
    "sleep(1);\n",
    "btn_menu = driver.find_element(By.CLASS_NAME, 'b_btn-menu');\n",
    "btn_menu.click();\n",
    "sleep(2);\n",
    "\n",
    "# Hover Function List\n",
    "sleep(1);\n",
    "function_list = driver.find_element(By.ID, 'F100');\n",
    "hover = ActionChains(driver).move_to_element(function_list);\n",
    "hover.perform();"
   ]
  },
  {
   "cell_type": "code",
   "execution_count": 121,
   "metadata": {},
   "outputs": [],
   "source": [
    "sleep(1);\n",
    "yearly_mileage_report = driver.find_element(By.XPATH, '//*[@id=\"F44\"]').click();\n",
    "sleep(5);"
   ]
  },
  {
   "cell_type": "code",
   "execution_count": 122,
   "metadata": {},
   "outputs": [],
   "source": [
    "sleep(1);\n",
    "driver.find_element(By.ID, 'F44_cancel_button').click();\n",
    "sleep(2);"
   ]
  },
  {
   "cell_type": "code",
   "execution_count": 123,
   "metadata": {},
   "outputs": [],
   "source": [
    "sleep(1);\n",
    "driver.find_element(By.XPATH, '//*[@id=\"F44_eigyousyoLevel_view\"]/li/div/span/div/div').click();\n",
    "sleep(2);"
   ]
  },
  {
   "cell_type": "code",
   "execution_count": 124,
   "metadata": {},
   "outputs": [],
   "source": [
    "sleep(1);\n",
    "\n",
    "# Open dropdown option Trip Start Year\n",
    "trip_start_year = driver.find_element(By.ID, 'ComboBox_StartYear');\n",
    "trip_start_year.click();\n",
    "\n",
    "# Set the year to current year\n",
    "select_trip_start_year = Select(trip_start_year);\n",
    "select_trip_start_year.select_by_visible_text(str(currentYear));\n",
    "sleep(1);\n",
    "\n",
    "# Open dropdown option Trip Start Month\n",
    "trip_start_month = driver.find_element(By.ID, 'ComboBox_StartMonth');\n",
    "trip_start_month.click();\n",
    "\n",
    "# Set the year to current year\n",
    "select_trip_start_month = Select(trip_start_month);\n",
    "select_trip_start_month.select_by_visible_text(str(currentMonth));\n",
    "sleep(1);\n",
    "\n",
    "# Open dropdown option Trip End Year\n",
    "trip_end_year = driver.find_element(By.ID, 'ComboBox_EndYear');\n",
    "trip_end_year.click();\n",
    "\n",
    "# Set the year to current year\n",
    "select_trip_end_year = Select(trip_end_year);\n",
    "select_trip_end_year.select_by_visible_text(str(currentYear));\n",
    "sleep(1);\n",
    "\n",
    "# Open dropdown option Trip End Month\n",
    "trip_end_month = driver.find_element(By.ID, 'ComboBox_EndMonth');\n",
    "trip_end_month.click();\n",
    "\n",
    "# Set the year to current year\n",
    "select_trip_end_month = Select(trip_end_month);\n",
    "select_trip_end_month.select_by_visible_text(str(currentMonth));\n",
    "sleep(1);"
   ]
  },
  {
   "cell_type": "code",
   "execution_count": 125,
   "metadata": {},
   "outputs": [],
   "source": [
    "sleep(1);\n",
    "driver.find_element(By.ID, 'F33_CSV_button').click();\n",
    "sleep(2);"
   ]
  },
  {
   "cell_type": "code",
   "execution_count": null,
   "metadata": {},
   "outputs": [],
   "source": [
    "sleep(20);"
   ]
  },
  {
   "cell_type": "code",
   "execution_count": 138,
   "metadata": {},
   "outputs": [],
   "source": [
    "# Open Menu\n",
    "sleep(1);\n",
    "btn_menu = driver.find_element(By.CLASS_NAME, 'b_btn-menu');\n",
    "btn_menu.click();\n",
    "sleep(2);\n",
    "\n",
    "# Hover Function List\n",
    "sleep(1);\n",
    "function_list = driver.find_element(By.ID, 'F100');\n",
    "hover = ActionChains(driver).move_to_element(function_list);\n",
    "hover.perform();"
   ]
  },
  {
   "cell_type": "code",
   "execution_count": 139,
   "metadata": {},
   "outputs": [],
   "source": [
    "sleep(1);\n",
    "digital_tachograph_data = driver.find_element(By.XPATH, '//*[@id=\"F49\"]').click();\n",
    "sleep(5);"
   ]
  },
  {
   "cell_type": "code",
   "execution_count": 140,
   "metadata": {},
   "outputs": [],
   "source": [
    "sleep(1);\n",
    "driver.find_element(By.ID, 'F49_cancel_button').click();\n",
    "sleep(2);"
   ]
  },
  {
   "cell_type": "code",
   "execution_count": 141,
   "metadata": {},
   "outputs": [],
   "source": [
    "sleep(1);\n",
    "driver.find_element(By.XPATH, '/html/body/article[1]/div/section/article/div[1]/article/div/div/div/ul/li/div/span/div/div').click();\n",
    "sleep(2);"
   ]
  },
  {
   "cell_type": "code",
   "execution_count": 148,
   "metadata": {},
   "outputs": [],
   "source": [
    "sleep(1);\n",
    "driver.find_element(By.ID, \"F49_from\").click();\n",
    "\n",
    "webDriverCurrentMonth = int(driver.find_element(By.XPATH, '//*[@id=\"F49_calendar_start\"]/div/div').text.split(\"/\")[1]);\n",
    "\n",
    "btn_previous = driver.find_element(By.ID, 'prev');\n",
    "sleep(1);\n",
    "btn_next = driver.find_element(By.ID, 'next');\n",
    "sleep(1);\n",
    "\n",
    "balancer = 0;\n",
    "index = 0;\n",
    "\n",
    "currentYearMonthCalendar = getCurrentCalendarXPATH('F49', str(currentYear), str(currentMonth));\n",
    "\n",
    "if webDriverCurrentMonth < currentMonth:\n",
    "    balancer = currentMonth - webDriverCurrentMonth;\n",
    "    \n",
    "    while index < balancer:\n",
    "        btn_next.click();\n",
    "        index += 1;\n",
    "else:\n",
    "    balancer = webDriverCurrentMonth - currentMonth;\n",
    "    while index < balancer:\n",
    "        btn_previous.click();\n",
    "        index += 1;\n",
    "    \n",
    "listDatesStart = driver.find_elements(By.XPATH, currentYearMonthCalendar);\n",
    "\n",
    "for date in listDatesStart:\n",
    "    dateName = date.text;\n",
    "    if dateName == str(scrappDataDate):\n",
    "        date.click();\n",
    "        break;"
   ]
  },
  {
   "cell_type": "code",
   "execution_count": 151,
   "metadata": {},
   "outputs": [],
   "source": [
    "sleep(1);\n",
    "driver.find_element(By.ID, 'F49_get_button').click();\n",
    "sleep(2);"
   ]
  },
  {
   "cell_type": "code",
   "execution_count": 133,
   "metadata": {},
   "outputs": [],
   "source": [
    "sleep(30);"
   ]
  },
  {
   "cell_type": "code",
   "execution_count": 165,
   "metadata": {},
   "outputs": [],
   "source": [
    "# Open Menu\n",
    "sleep(1);\n",
    "btn_menu = driver.find_element(By.CLASS_NAME, 'b_btn-menu');\n",
    "btn_menu.click();\n",
    "sleep(2);\n",
    "\n",
    "# Hover Function List\n",
    "sleep(1);\n",
    "function_list = driver.find_element(By.ID, 'F100');\n",
    "hover = ActionChains(driver).move_to_element(function_list);\n",
    "hover.perform();"
   ]
  },
  {
   "cell_type": "code",
   "execution_count": 166,
   "metadata": {},
   "outputs": [],
   "source": [
    "sleep(1);\n",
    "safety_driving_ranking_report = driver.find_element(By.XPATH, '//*[@id=\"F41\"]').click();\n",
    "sleep(5);"
   ]
  },
  {
   "cell_type": "code",
   "execution_count": 167,
   "metadata": {},
   "outputs": [],
   "source": [
    "sleep(1);\n",
    "driver.find_element(By.ID, 'F41_cancel_button').click();\n",
    "sleep(2);"
   ]
  },
  {
   "cell_type": "code",
   "execution_count": 175,
   "metadata": {},
   "outputs": [],
   "source": [
    "sleep(1);\n",
    "driver.find_element(By.XPATH, '//*[@id=\"F41_eigyousyoLevel_view\"]/li/div/span/div/div').click();\n",
    "sleep(2);"
   ]
  },
  {
   "cell_type": "code",
   "execution_count": 176,
   "metadata": {},
   "outputs": [],
   "source": [
    "# Check all branch\n",
    "sleep(1);\n",
    "driver.find_element(By.XPATH, '//*[@id=\"F41_main_form\"]/p[2]/div').click();\n",
    "\n",
    "sleep(2);"
   ]
  },
  {
   "cell_type": "code",
   "execution_count": 177,
   "metadata": {},
   "outputs": [],
   "source": [
    "sleep(1);\n",
    "driver.find_element(By.ID, \"F41_StartDate\").click();\n",
    "\n",
    "webDriverCurrentMonth = int(driver.find_element(By.XPATH, '//*[@id=\"F41_calendar_start\"]/div/div').text.split(\"/\")[1]);\n",
    "\n",
    "btn_previous = driver.find_element(By.ID, 'prev');\n",
    "sleep(1);\n",
    "btn_next = driver.find_element(By.ID, 'next');\n",
    "sleep(1);\n",
    "\n",
    "balancer = 0;\n",
    "index = 0;\n",
    "\n",
    "currentYearMonthCalendar = getCurrentCalendarXPATH('F41', str(currentYear), str(currentMonth));\n",
    "\n",
    "if webDriverCurrentMonth < currentMonth:\n",
    "    balancer = currentMonth - webDriverCurrentMonth;\n",
    "    \n",
    "    while index < balancer:\n",
    "        btn_next.click();\n",
    "        index += 1;\n",
    "else:\n",
    "    balancer = webDriverCurrentMonth - currentMonth;\n",
    "    while index < balancer:\n",
    "        btn_previous.click();\n",
    "        index += 1;\n",
    "    \n",
    "listDatesStart = driver.find_elements(By.XPATH, currentYearMonthCalendar);\n",
    "\n",
    "for date in listDatesStart:\n",
    "    dateName = date.text;\n",
    "    if dateName == str(scrappDataDate):\n",
    "        date.click();\n",
    "        break;"
   ]
  },
  {
   "cell_type": "code",
   "execution_count": 178,
   "metadata": {},
   "outputs": [],
   "source": [
    "sleep(1);\n",
    "driver.find_element(By.ID, 'F41_CSV_button').click();\n",
    "sleep(2);"
   ]
  },
  {
   "cell_type": "code",
   "execution_count": null,
   "metadata": {},
   "outputs": [],
   "source": [
    "sleep(30);"
   ]
  },
  {
   "cell_type": "code",
   "execution_count": null,
   "metadata": {},
   "outputs": [],
   "source": [
    "# Open Menu\n",
    "sleep(1);\n",
    "btn_menu = driver.find_element(By.CLASS_NAME, 'b_btn-menu');\n",
    "btn_menu.click();\n",
    "sleep(2);\n",
    "\n",
    "# Hover Function List\n",
    "sleep(1);\n",
    "function_list = driver.find_element(By.ID, 'F100');\n",
    "hover = ActionChains(driver).move_to_element(function_list);\n",
    "hover.perform();"
   ]
  },
  {
   "cell_type": "code",
   "execution_count": null,
   "metadata": {},
   "outputs": [],
   "source": [
    "sleep(1);\n",
    "driver_report = driver.find_element(By.XPATH, '//*[@id=\"F4B\"]').click();\n",
    "sleep(5);"
   ]
  },
  {
   "cell_type": "code",
   "execution_count": 179,
   "metadata": {},
   "outputs": [],
   "source": [
    "sleep(1);\n",
    "driver.find_element(By.ID, 'F41_cancel_button').click();\n",
    "sleep(2);"
   ]
  },
  {
   "cell_type": "code",
   "execution_count": 180,
   "metadata": {},
   "outputs": [],
   "source": [
    "sleep(1);\n",
    "driver.find_element(By.XPATH, '//*[@id=\"F41_eigyousyoLevel_view\"]/li/div/span/div/div').click();\n",
    "sleep(2);"
   ]
  },
  {
   "cell_type": "code",
   "execution_count": 181,
   "metadata": {},
   "outputs": [],
   "source": [
    "sleep(1);\n",
    "driver.find_element(By.ID, \"F41_StartDate\").click();\n",
    "\n",
    "webDriverCurrentMonth = int(driver.find_element(By.XPATH, '//*[@id=\"F41_calendar_start\"]/div/div').text.split(\"/\")[1]);\n",
    "\n",
    "btn_previous = driver.find_element(By.ID, 'prev');\n",
    "sleep(1);\n",
    "btn_next = driver.find_element(By.ID, 'next');\n",
    "sleep(1);\n",
    "\n",
    "balancer = 0;\n",
    "index = 0;\n",
    "\n",
    "currentYearMonthCalendar = getCurrentCalendarXPATH('F41', str(currentYear), str(currentMonth));\n",
    "\n",
    "if webDriverCurrentMonth < currentMonth:\n",
    "    balancer = currentMonth - webDriverCurrentMonth;\n",
    "    \n",
    "    while index < balancer:\n",
    "        btn_next.click();\n",
    "        index += 1;\n",
    "else:\n",
    "    balancer = webDriverCurrentMonth - currentMonth;\n",
    "    while index < balancer:\n",
    "        btn_previous.click();\n",
    "        index += 1;\n",
    "    \n",
    "listDatesStart = driver.find_elements(By.XPATH, currentYearMonthCalendar);\n",
    "\n",
    "for date in listDatesStart:\n",
    "    dateName = date.text;\n",
    "    if dateName == str(scrappDataDate):\n",
    "        date.click();\n",
    "        break;"
   ]
  },
  {
   "cell_type": "code",
   "execution_count": 182,
   "metadata": {},
   "outputs": [],
   "source": [
    "sleep(1);\n",
    "driver.find_element(By.ID, 'F41_CSV_button').click();\n",
    "sleep(2);"
   ]
  },
  {
   "cell_type": "code",
   "execution_count": null,
   "metadata": {},
   "outputs": [],
   "source": [
    "sleep(20);"
   ]
  },
  {
   "cell_type": "code",
   "execution_count": 187,
   "metadata": {},
   "outputs": [],
   "source": [
    "# Open Menu\n",
    "sleep(1);\n",
    "btn_menu = driver.find_element(By.CLASS_NAME, 'b_btn-menu');\n",
    "btn_menu.click();\n",
    "sleep(2);\n",
    "\n",
    "# Hover Function List\n",
    "sleep(1);\n",
    "function_list = driver.find_element(By.ID, 'F100');\n",
    "hover = ActionChains(driver).move_to_element(function_list);\n",
    "hover.perform();"
   ]
  },
  {
   "cell_type": "code",
   "execution_count": 189,
   "metadata": {},
   "outputs": [],
   "source": [
    "sleep(1);\n",
    "driving_report_by_vehicle = driver.find_element(By.XPATH, '//*[@id=\"F4C\"]').click();\n",
    "sleep(2);"
   ]
  },
  {
   "cell_type": "code",
   "execution_count": 190,
   "metadata": {},
   "outputs": [],
   "source": [
    "sleep(1);\n",
    "driver.find_element(By.ID, 'F41_cancel_button').click();\n",
    "sleep(2);"
   ]
  },
  {
   "cell_type": "code",
   "execution_count": 191,
   "metadata": {},
   "outputs": [],
   "source": [
    "sleep(1);\n",
    "driver.find_element(By.XPATH, '//*[@id=\"F41_eigyousyoLevel_view\"]/li/div/span/div/div').click();\n",
    "sleep(2);"
   ]
  },
  {
   "cell_type": "code",
   "execution_count": 192,
   "metadata": {},
   "outputs": [],
   "source": [
    "sleep(1);\n",
    "driver.find_element(By.ID, \"F41_StartDate\").click();\n",
    "\n",
    "webDriverCurrentMonth = int(driver.find_element(By.XPATH, '//*[@id=\"F41_calendar_start\"]/div/div').text.split(\"/\")[1]);\n",
    "\n",
    "btn_previous = driver.find_element(By.ID, 'prev');\n",
    "sleep(1);\n",
    "btn_next = driver.find_element(By.ID, 'next');\n",
    "sleep(1);\n",
    "\n",
    "balancer = 0;\n",
    "index = 0;\n",
    "\n",
    "currentYearMonthCalendar = getCurrentCalendarXPATH('F41', str(currentYear), str(currentMonth));\n",
    "\n",
    "if webDriverCurrentMonth < currentMonth:\n",
    "    balancer = currentMonth - webDriverCurrentMonth;\n",
    "    \n",
    "    while index < balancer:\n",
    "        btn_next.click();\n",
    "        index += 1;\n",
    "else:\n",
    "    balancer = webDriverCurrentMonth - currentMonth;\n",
    "    while index < balancer:\n",
    "        btn_previous.click();\n",
    "        index += 1;\n",
    "    \n",
    "listDatesStart = driver.find_elements(By.XPATH, currentYearMonthCalendar);\n",
    "\n",
    "for date in listDatesStart:\n",
    "    dateName = date.text;\n",
    "    if dateName == str(scrappDataDate):\n",
    "        date.click();\n",
    "        break;"
   ]
  },
  {
   "cell_type": "code",
   "execution_count": 193,
   "metadata": {},
   "outputs": [],
   "source": [
    "sleep(1);\n",
    "driver.find_element(By.ID, 'F41_CSV_button').click();\n",
    "sleep(2);"
   ]
  },
  {
   "cell_type": "code",
   "execution_count": 194,
   "metadata": {},
   "outputs": [],
   "source": [
    "sleep(20);"
   ]
  },
  {
   "cell_type": "code",
   "execution_count": 204,
   "metadata": {},
   "outputs": [],
   "source": [
    "# Open Menu\n",
    "sleep(1);\n",
    "btn_menu = driver.find_element(By.CLASS_NAME, 'b_btn-menu');\n",
    "btn_menu.click();\n",
    "sleep(2);\n",
    "\n",
    "# Hover Function List\n",
    "sleep(1);\n",
    "function_list = driver.find_element(By.ID, 'F100');\n",
    "hover = ActionChains(driver).move_to_element(function_list);\n",
    "hover.perform();"
   ]
  },
  {
   "cell_type": "code",
   "execution_count": 205,
   "metadata": {},
   "outputs": [],
   "source": [
    "sleep(1);\n",
    "summary_table_by_department = driver.find_element(By.XPATH, '//*[@id=\"P21\"]').click();\n",
    "sleep(5);"
   ]
  },
  {
   "cell_type": "code",
   "execution_count": 206,
   "metadata": {},
   "outputs": [],
   "source": [
    "sleep(1);\n",
    "driver.find_element(By.ID, 'P21_cancel_button').click();\n",
    "sleep(2);"
   ]
  },
  {
   "cell_type": "code",
   "execution_count": 207,
   "metadata": {},
   "outputs": [],
   "source": [
    "sleep(1);\n",
    "driver.find_element(By.XPATH, '//*[@id=\"P21_eigyousyoLevel_view\"]/li/div/span/div/div').click();\n",
    "sleep(2);"
   ]
  },
  {
   "cell_type": "code",
   "execution_count": 216,
   "metadata": {},
   "outputs": [],
   "source": [
    "sleep(1);\n",
    "driver.find_element(By.ID, \"P21_StartDate\").click();\n",
    "\n",
    "webDriverCurrentMonth = int(driver.find_element(By.XPATH, '//*[@id=\"P21_calendar_start\"]/div/div').text.split(\"/\")[1]);\n",
    "\n",
    "btn_previous = driver.find_element(By.ID, 'prev');\n",
    "sleep(1);\n",
    "btn_next = driver.find_element(By.ID, 'next');\n",
    "sleep(1);\n",
    "\n",
    "balancer = 0;\n",
    "index = 0;\n",
    "\n",
    "currentYearMonthCalendar = getCurrentCalendarXPATH('P21', str(currentYear), str(currentMonth));\n",
    "\n",
    "if webDriverCurrentMonth < currentMonth:\n",
    "    balancer = currentMonth - webDriverCurrentMonth;\n",
    "    \n",
    "    while index < balancer:\n",
    "        btn_next.click();\n",
    "        index += 1;\n",
    "else:\n",
    "    balancer = webDriverCurrentMonth - currentMonth;\n",
    "    while index < balancer:\n",
    "        btn_previous.click();\n",
    "        index += 1;\n",
    "    \n",
    "listDatesStart = driver.find_elements(By.XPATH, currentYearMonthCalendar);\n",
    "\n",
    "for date in listDatesStart:\n",
    "    dateName = date.text;\n",
    "    if dateName == str(scrappDataDate):\n",
    "        date.click();\n",
    "        break;"
   ]
  },
  {
   "cell_type": "code",
   "execution_count": 209,
   "metadata": {},
   "outputs": [],
   "source": [
    "sleep(1);\n",
    "driver.find_element(By.ID, 'P21_CSV_button').click();\n",
    "sleep(2);"
   ]
  },
  {
   "cell_type": "code",
   "execution_count": 210,
   "metadata": {},
   "outputs": [],
   "source": [
    "sleep(20);"
   ]
  },
  {
   "cell_type": "code",
   "execution_count": 232,
   "metadata": {},
   "outputs": [],
   "source": [
    "# Open Menu\n",
    "sleep(1);\n",
    "btn_menu = driver.find_element(By.CLASS_NAME, 'b_btn-menu');\n",
    "btn_menu.click();\n",
    "sleep(2);\n",
    "\n",
    "# Hover Function List\n",
    "sleep(1);\n",
    "function_list = driver.find_element(By.ID, 'F100');\n",
    "hover = ActionChains(driver).move_to_element(function_list);\n",
    "hover.perform();"
   ]
  },
  {
   "cell_type": "code",
   "execution_count": 233,
   "metadata": {},
   "outputs": [],
   "source": [
    "sleep(1);\n",
    "safety_evaluation_results_table_by_vehicle = driver.find_element(By.XPATH, '//*[@id=\"F4G\"]').click();\n",
    "sleep(5);"
   ]
  },
  {
   "cell_type": "code",
   "execution_count": 234,
   "metadata": {},
   "outputs": [],
   "source": [
    "sleep(1);\n",
    "driver.find_element(By.ID, 'F4G_cancel_button').click();\n",
    "sleep(2);"
   ]
  },
  {
   "cell_type": "code",
   "execution_count": 235,
   "metadata": {},
   "outputs": [],
   "source": [
    "sleep(1);\n",
    "driver.find_element(By.XPATH, '//*[@id=\"F4G_eigyousyoLevel_view\"]/li/div/span/div/div').click();\n",
    "sleep(2);"
   ]
  },
  {
   "cell_type": "code",
   "execution_count": 236,
   "metadata": {},
   "outputs": [],
   "source": [
    "sleep(1);\n",
    "driver.find_element(By.XPATH, '//*[@id=\"F4G_main_form\"]/p[2]/div').click();\n",
    "sleep(2);"
   ]
  },
  {
   "cell_type": "code",
   "execution_count": 237,
   "metadata": {},
   "outputs": [],
   "source": [
    "sleep(1);\n",
    "driver.find_element(By.XPATH, '//*[@id=\"F4G_main_form\"]/p[3]/div').click();\n",
    "sleep(2);"
   ]
  },
  {
   "cell_type": "code",
   "execution_count": 238,
   "metadata": {},
   "outputs": [],
   "source": [
    "sleep(1);\n",
    "driver.find_element(By.ID, \"F4G_StartDate\").click();\n",
    "\n",
    "webDriverCurrentMonth = int(driver.find_element(By.XPATH, '//*[@id=\"F4G_calendar_start\"]/div/div').text.split(\"/\")[1]);\n",
    "\n",
    "btn_previous = driver.find_element(By.ID, 'prev');\n",
    "sleep(1);\n",
    "btn_next = driver.find_element(By.ID, 'next');\n",
    "sleep(1);\n",
    "\n",
    "balancer = 0;\n",
    "index = 0;\n",
    "\n",
    "currentYearMonthCalendar = getCurrentCalendarXPATH('F4G', str(currentYear), str(currentMonth));\n",
    "\n",
    "if webDriverCurrentMonth < currentMonth:\n",
    "    balancer = currentMonth - webDriverCurrentMonth;\n",
    "    \n",
    "    while index < balancer:\n",
    "        btn_next.click();\n",
    "        index += 1;\n",
    "else:\n",
    "    balancer = webDriverCurrentMonth - currentMonth;\n",
    "    while index < balancer:\n",
    "        btn_previous.click();\n",
    "        index += 1;\n",
    "    \n",
    "listDatesStart = driver.find_elements(By.XPATH, currentYearMonthCalendar);\n",
    "\n",
    "for date in listDatesStart:\n",
    "    dateName = date.text;\n",
    "    if dateName == str(scrappDataDate):\n",
    "        date.click();\n",
    "        break;"
   ]
  },
  {
   "cell_type": "code",
   "execution_count": 239,
   "metadata": {},
   "outputs": [],
   "source": [
    "sleep(1);\n",
    "driver.find_element(By.ID, 'F4G_CSV_button').click();\n",
    "sleep(2);"
   ]
  },
  {
   "cell_type": "code",
   "execution_count": 240,
   "metadata": {},
   "outputs": [],
   "source": [
    "sleep(20);"
   ]
  },
  {
   "cell_type": "code",
   "execution_count": 241,
   "metadata": {},
   "outputs": [
    {
     "ename": "SystemExit",
     "evalue": "",
     "output_type": "error",
     "traceback": [
      "An exception has occurred, use %tb to see the full traceback.\n",
      "\u001b[1;31mSystemExit\u001b[0m\n"
     ]
    },
    {
     "name": "stderr",
     "output_type": "stream",
     "text": [
      "C:\\Users\\uvyie\\AppData\\Local\\Programs\\Python\\Python310\\lib\\site-packages\\IPython\\core\\interactiveshell.py:3452: UserWarning: To exit: use 'exit', 'quit', or Ctrl-D.\n",
      "  warn(\"To exit: use 'exit', 'quit', or Ctrl-D.\", stacklevel=1)\n"
     ]
    }
   ],
   "source": [
    "win32api.MessageBox(0, 'Scrapping Completed.', 'Success', 0x00001000);\n",
    "sleep(5);"
   ]
  }
 ],
 "metadata": {
  "interpreter": {
   "hash": "31e4b8003ba96517281bec64fa6fb24b1276108901fe91a741f2c92f8c8df15a"
  },
  "kernelspec": {
   "display_name": "Python 3.10.0 64-bit",
   "language": "python",
   "name": "python3"
  },
  "language_info": {
   "codemirror_mode": {
    "name": "ipython",
    "version": 3
   },
   "file_extension": ".py",
   "mimetype": "text/x-python",
   "name": "python",
   "nbconvert_exporter": "python",
   "pygments_lexer": "ipython3",
   "version": "3.10.0"
  },
  "orig_nbformat": 4
 },
 "nbformat": 4,
 "nbformat_minor": 2
}
