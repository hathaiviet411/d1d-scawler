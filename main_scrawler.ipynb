{
 "cells": [
  {
   "cell_type": "code",
   "execution_count": 62,
   "metadata": {},
   "outputs": [],
   "source": [
    "from selenium import webdriver;\n",
    "from selenium.webdriver.common.by import By;\n",
    "from selenium.webdriver.common.keys import Keys;\n",
    "from selenium.webdriver.common.action_chains import ActionChains;\n",
    "from webdriver_manager.chrome import ChromeDriverManager;\n",
    "import datetime;\n",
    "from time import sleep;"
   ]
  },
  {
   "cell_type": "code",
   "execution_count": null,
   "metadata": {},
   "outputs": [],
   "source": [
    "# Initialize Chrome\n",
    "driver = webdriver.Chrome(ChromeDriverManager().install());\n",
    "driver.maximize_window();"
   ]
  },
  {
   "cell_type": "code",
   "execution_count": 64,
   "metadata": {},
   "outputs": [],
   "source": [
    "# Navigate to D1D system\n",
    "url = 'http://itpv2.transtron.fujitsu.com/';\n",
    "driver.get(url);\n",
    "sleep(1);"
   ]
  },
  {
   "cell_type": "code",
   "execution_count": 65,
   "metadata": {},
   "outputs": [],
   "source": [
    "# Fill login information\n",
    "input_field = driver.find_element(By.ID, 'userid');\n",
    "input_field.send_keys('izmb-free');\n",
    "\n",
    "password_field = driver.find_element(By.ID, 'password');\n",
    "password_field.send_keys('izumi001');"
   ]
  },
  {
   "cell_type": "code",
   "execution_count": 66,
   "metadata": {},
   "outputs": [],
   "source": [
    "# Login\n",
    "btn_login = driver.find_element(By.ID, 'login');\n",
    "btn_login.click();\n",
    "sleep(1);"
   ]
  },
  {
   "cell_type": "code",
   "execution_count": 67,
   "metadata": {},
   "outputs": [],
   "source": [
    "# Waiting the client loading\n",
    "sleep(20);"
   ]
  },
  {
   "cell_type": "code",
   "execution_count": 68,
   "metadata": {},
   "outputs": [],
   "source": [
    "# Open Menu\n",
    "btn_menu = driver.find_element(By.CLASS_NAME, 'b_btn-menu');\n",
    "btn_menu.click();\n",
    "sleep(2);"
   ]
  },
  {
   "cell_type": "code",
   "execution_count": 69,
   "metadata": {},
   "outputs": [],
   "source": [
    "# Hover Function List\n",
    "function_list = driver.find_element(By.ID, 'F100');\n",
    "hover = ActionChains(driver).move_to_element(function_list);\n",
    "hover.perform();"
   ]
  },
  {
   "cell_type": "code",
   "execution_count": 70,
   "metadata": {},
   "outputs": [],
   "source": [
    "# Open Results\n",
    "results_menu = driver.find_element(By.ID, 'F40_dl');\n",
    "results_menu.click();\n",
    "sleep(2);"
   ]
  },
  {
   "cell_type": "code",
   "execution_count": 71,
   "metadata": {},
   "outputs": [],
   "source": [
    "# Get Digital Tachograph Data\n",
    "digital_tachograph_data = driver.find_element(By.XPATH, '//*[@id=\"F40_ul\"]/li[7]');\n",
    "digital_tachograph_data.click();\n",
    "sleep(10);"
   ]
  },
  {
   "cell_type": "code",
   "execution_count": 72,
   "metadata": {},
   "outputs": [],
   "source": [
    "# Check all branch\n",
    "checkbox_select_all_branch = driver.find_element(By.XPATH, '//*[@id=\"F49_eigyousyoLevel_view\"]/li/div/span/div/div');\n",
    "checkbox_select_all_branch.click();\n",
    "sleep(2);"
   ]
  },
  {
   "cell_type": "code",
   "execution_count": 73,
   "metadata": {},
   "outputs": [],
   "source": [
    "# Adjust trip start date\n",
    "trip_start_day = driver.find_element(By.ID, 'F49_from');\n",
    "trip_start_day.click();\n",
    "\n",
    "calendar_field = driver.find_element(By.XPATH, '//*[@id=\"F49_calendar_start_2021_11\"]/tbody/tr[4]/td[4]');\n",
    "ActionChains(driver).move_to_element(calendar_field).click().perform();"
   ]
  },
  {
   "cell_type": "code",
   "execution_count": 74,
   "metadata": {},
   "outputs": [],
   "source": [
    "# Dowload\n",
    "btn_get_data = driver.find_element(By.ID, 'F49_get_button');\n",
    "btn_get_data.click();"
   ]
  },
  {
   "cell_type": "code",
   "execution_count": 75,
   "metadata": {},
   "outputs": [],
   "source": [
    "sleep(30);"
   ]
  },
  {
   "cell_type": "code",
   "execution_count": 76,
   "metadata": {},
   "outputs": [],
   "source": [
    "# Open Menu\n",
    "btn_menu = driver.find_element(By.CLASS_NAME, 'b_btn-menu');\n",
    "btn_menu.click();\n",
    "sleep(2);"
   ]
  },
  {
   "cell_type": "code",
   "execution_count": 77,
   "metadata": {},
   "outputs": [],
   "source": [
    "# Hover Function List\n",
    "function_list = driver.find_element(By.ID, 'F100');\n",
    "hover = ActionChains(driver).move_to_element(function_list);\n",
    "hover.perform();"
   ]
  },
  {
   "cell_type": "code",
   "execution_count": 78,
   "metadata": {},
   "outputs": [],
   "source": [
    "# Open Results\n",
    "# results_menu = driver.find_element(By.ID, 'F40_dl');\n",
    "# results_menu.click();\n",
    "# sleep(2);\n",
    "# results_menu.click();\n",
    "# sleep(2);\n",
    "# results_menu.click();\n"
   ]
  },
  {
   "cell_type": "code",
   "execution_count": 79,
   "metadata": {},
   "outputs": [],
   "source": [
    "# Get Safety Driving Ranking Data\n",
    "safety_driving_ranking_data = driver.find_element(By.XPATH, '//*[@id=\"F41\"]');\n",
    "safety_driving_ranking_data.click();\n",
    "sleep(2);\n",
    "sleep(2);\n",
    "driver.find_element(By.ID, 'F41_cancel_button').click();\n",
    "sleep(2);"
   ]
  },
  {
   "cell_type": "code",
   "execution_count": 80,
   "metadata": {},
   "outputs": [],
   "source": [
    "# Check all branch\n",
    "select_all_checkbox = driver.find_element(By.XPATH, '//*[@id=\"F41_eigyousyoLevel_view\"]/li/div/span/div/div');\n",
    "select_all_checkbox.click();\n",
    "sleep(2);"
   ]
  },
  {
   "cell_type": "code",
   "execution_count": 81,
   "metadata": {},
   "outputs": [],
   "source": [
    "# Check total safety driving ranking report\n",
    "total_safety_driving_ranking_report = driver.find_element(By.XPATH, '//*[@id=\"F41_main_form\"]/p[2]/div');\n",
    "total_safety_driving_ranking_report.click();"
   ]
  },
  {
   "cell_type": "code",
   "execution_count": 82,
   "metadata": {},
   "outputs": [],
   "source": [
    "# Get current time.\n",
    "currentTime = datetime.date.today();\n",
    "currentDate = currentTime.day;\n",
    "scrappDataDate = currentDate - 1;"
   ]
  },
  {
   "cell_type": "code",
   "execution_count": 83,
   "metadata": {},
   "outputs": [],
   "source": [
    "# Set start day\n",
    "start_day = driver.find_element(By.ID, \"F41_StartDate\").click();\n",
    "listDatesStart = driver.find_elements(By.XPATH, \"//table[@id='F41_calendar_start_2021_10']//a\");\n",
    "for date in listDatesStart:\n",
    "    dateName = date.text;\n",
    "    if dateName == str(scrappDataDate):\n",
    "        date.click();\n",
    "        break;"
   ]
  },
  {
   "cell_type": "code",
   "execution_count": 84,
   "metadata": {},
   "outputs": [],
   "source": [
    "# Set end day\n",
    "end_day = driver.find_element(By.ID, \"F41_EndDate\").click();\n",
    "listDatesEnd = driver.find_elements(By.XPATH, \"//table[@id='F41_calendar_end_2021_10']//a\");\n",
    "for date in listDatesEnd:\n",
    "    dateName = date.text;\n",
    "    if dateName == str(scrappDataDate):\n",
    "        date.click();\n",
    "        break;"
   ]
  },
  {
   "cell_type": "code",
   "execution_count": 85,
   "metadata": {},
   "outputs": [],
   "source": [
    "# Output data.\n",
    "btn_output = driver.find_element(By.ID, 'F41_CSV_button');\n",
    "btn_output.click();"
   ]
  },
  {
   "cell_type": "code",
   "execution_count": 86,
   "metadata": {},
   "outputs": [],
   "source": [
    "sleep(20);"
   ]
  },
  {
   "cell_type": "code",
   "execution_count": 87,
   "metadata": {},
   "outputs": [],
   "source": [
    "# Open Menu\n",
    "btn_menu = driver.find_element(By.CLASS_NAME, 'b_btn-menu');\n",
    "btn_menu.click();\n",
    "sleep(2);"
   ]
  },
  {
   "cell_type": "code",
   "execution_count": 88,
   "metadata": {},
   "outputs": [],
   "source": [
    "# Hover Function List\n",
    "function_list = driver.find_element(By.ID, 'F100');\n",
    "hover = ActionChains(driver).move_to_element(function_list);\n",
    "hover.perform();"
   ]
  },
  {
   "cell_type": "code",
   "execution_count": 89,
   "metadata": {},
   "outputs": [],
   "source": [
    "# Open Results\n",
    "# results_menu = driver.find_element(By.ID, 'F40_dl');\n",
    "# results_menu.click();\n",
    "# sleep(2);"
   ]
  },
  {
   "cell_type": "code",
   "execution_count": 90,
   "metadata": {},
   "outputs": [],
   "source": [
    "# Get Digital Tachograph Data\n",
    "driver_report = driver.find_element(By.XPATH, '//*[@id=\"F4B\"]');\n",
    "driver_report.click();\n",
    "sleep(2);\n",
    "driver.find_element(By.ID, 'F41_cancel_button').click();\n",
    "sleep(2);"
   ]
  },
  {
   "cell_type": "code",
   "execution_count": 91,
   "metadata": {},
   "outputs": [],
   "source": [
    "checkbox = driver.find_element(By.XPATH, '//*[@id=\"F41_eigyousyoLevel_view\"]/li/div/span/div');\n",
    "checkbox.click();\n",
    "sleep(2);"
   ]
  },
  {
   "cell_type": "code",
   "execution_count": 92,
   "metadata": {},
   "outputs": [],
   "source": [
    "# Get current time.\n",
    "currentTime = datetime.date.today();\n",
    "currentDate = currentTime.day;\n",
    "scrappDataDate = currentDate - 1;"
   ]
  },
  {
   "cell_type": "code",
   "execution_count": 93,
   "metadata": {},
   "outputs": [],
   "source": [
    "# Set start day\n",
    "start_day = driver.find_element(By.ID, \"F41_StartDate\").click();\n",
    "listDatesStart = driver.find_elements(By.XPATH, \"//table[@id='F41_calendar_start_2021_10']//a\");\n",
    "for date in listDatesStart:\n",
    "    dateName = date.text;\n",
    "    if dateName == str(scrappDataDate):\n",
    "        date.click();\n",
    "        break;"
   ]
  },
  {
   "cell_type": "code",
   "execution_count": 94,
   "metadata": {},
   "outputs": [],
   "source": [
    "# Set end day\n",
    "end_day = driver.find_element(By.ID, \"F41_EndDate\").click();\n",
    "listDatesEnd = driver.find_elements(By.XPATH, \"//table[@id='F41_calendar_end_2021_10']//a\");\n",
    "for date in listDatesEnd:\n",
    "    dateName = date.text;\n",
    "    if dateName == str(scrappDataDate):\n",
    "        date.click();\n",
    "        break;"
   ]
  },
  {
   "cell_type": "code",
   "execution_count": 95,
   "metadata": {},
   "outputs": [],
   "source": [
    "# Output data.\n",
    "btn_output = driver.find_element(By.ID, 'F41_CSV_button');\n",
    "btn_output.click();"
   ]
  }
 ],
 "metadata": {
  "interpreter": {
   "hash": "31e4b8003ba96517281bec64fa6fb24b1276108901fe91a741f2c92f8c8df15a"
  },
  "kernelspec": {
   "display_name": "Python 3.10.0 64-bit",
   "language": "python",
   "name": "python3"
  },
  "language_info": {
   "codemirror_mode": {
    "name": "ipython",
    "version": 3
   },
   "file_extension": ".py",
   "mimetype": "text/x-python",
   "name": "python",
   "nbconvert_exporter": "python",
   "pygments_lexer": "ipython3",
   "version": "3.10.0"
  },
  "orig_nbformat": 4
 },
 "nbformat": 4,
 "nbformat_minor": 2
}
